{
 "cells": [
  {
   "cell_type": "code",
   "execution_count": 19,
   "metadata": {},
   "outputs": [],
   "source": [
    "from bs4 import BeautifulSoup\n",
    "import six.moves.urllib as urllib2\n",
    "import re\n",
    "import csv\n",
    "import time\n",
    "\n",
    "import warnings\n",
    "warnings.filterwarnings(\"ignore\")"
   ]
  },
  {
   "cell_type": "markdown",
   "metadata": {},
   "source": [
    "# Get all of the Urls"
   ]
  },
  {
   "cell_type": "code",
   "execution_count": 20,
   "metadata": {},
   "outputs": [],
   "source": [
    "import pandas as pd\n",
    "import numpy as np\n",
    "import matplotlib.pyplot as plt\n",
    "import grequests\n",
    "import requests  # must be after grequests; see https://github.com/spyoungtech/grequests/issues/103"
   ]
  },
  {
   "cell_type": "code",
   "execution_count": 21,
   "metadata": {},
   "outputs": [],
   "source": [
    "data = pd.read_csv(\"Sample_Program_Service_Data.csv\", encoding='latin')"
   ]
  },
  {
   "cell_type": "code",
   "execution_count": 22,
   "metadata": {},
   "outputs": [
    {
     "data": {
      "text/plain": [
       "Index(['Unnamed: 0', 'EIN', 'GROSSRECEIPTS', 'TOTEMPLOYEE', 'TOTVOLUNTEERS',\n",
       "       'CITY', 'STATE', 'FISYR', 'TOTALPROGSERVEXP', 'FORMTYPE', 'FORMYEAR',\n",
       "       'NAME', 'DBA', 'ADDRESS', 'ZIP', 'WEBSITE', 'URL', 'NteeFinal',\n",
       "       'MISSION', 'DISCOPS', 'CONTRIBCURRENT', 'PSRCURRENT', 'INVINCCURRENT',\n",
       "       'OTHERREVCURRENT', 'TOTALREVCURRENT', 'MEMBERDUES', 'GROSSSALESOTHER',\n",
       "       'SALESCOSTOTHER', 'NETSALESOTHER', 'GROSSINCGAMING',\n",
       "       'GROSSINCFNDEVENTS', 'NETSALESINV', 'GRANTSPAIDCURRENT',\n",
       "       'MEMBERBENCURRENT', 'SALARIESCURRENT', 'TOTALEXPCURRENT',\n",
       "       'REVLESSEXPCURRENT', 'TOTALASSETSBEGYEAR', 'TOTALASSETSENDYEAR',\n",
       "       'TOTALLIABBEGYEAR', 'TOTALLIABENDYEAR', 'NETASSETSBEGYEAR',\n",
       "       'OTHERASSETSCHANGES', 'NETASSETSENDYEAR', 'CASHINVBEGYEAR',\n",
       "       'CASHINVENDYEAR', 'LANDBEGYEAR', 'LANDENDYEAR', 'OTHERASSETSBEGYEAR',\n",
       "       'OTHERASSETSENDYEAR', 'LOBBYING', 'proj1Desc', 'proj1ExpAmt',\n",
       "       'proj1GrantAmt', 'proj2Desc', 'proj2ExpAmt', 'proj2GrantAmt',\n",
       "       'proj3Desc', 'proj3ExpAmt', 'proj3GrantAmt'],\n",
       "      dtype='object')"
      ]
     },
     "execution_count": 22,
     "metadata": {},
     "output_type": "execute_result"
    }
   ],
   "source": [
    "data.columns"
   ]
  },
  {
   "cell_type": "code",
   "execution_count": 23,
   "metadata": {},
   "outputs": [
    {
     "data": {
      "text/html": [
       "<div>\n",
       "<style scoped>\n",
       "    .dataframe tbody tr th:only-of-type {\n",
       "        vertical-align: middle;\n",
       "    }\n",
       "\n",
       "    .dataframe tbody tr th {\n",
       "        vertical-align: top;\n",
       "    }\n",
       "\n",
       "    .dataframe thead th {\n",
       "        text-align: right;\n",
       "    }\n",
       "</style>\n",
       "<table border=\"1\" class=\"dataframe\">\n",
       "  <thead>\n",
       "    <tr style=\"text-align: right;\">\n",
       "      <th></th>\n",
       "      <th>WEBSITE</th>\n",
       "      <th>NAME</th>\n",
       "      <th>ADDRESS</th>\n",
       "      <th>ZIP</th>\n",
       "      <th>URL</th>\n",
       "      <th>FISYR</th>\n",
       "    </tr>\n",
       "  </thead>\n",
       "  <tbody>\n",
       "    <tr>\n",
       "      <th>0</th>\n",
       "      <td>WWW.ROCHESTERBIZ.COM</td>\n",
       "      <td>GREATER ROCHESTER ENTERPRISE</td>\n",
       "      <td>100 CHESTNUT ONE HSBC PLAZA NO 1910</td>\n",
       "      <td>14604</td>\n",
       "      <td>https://s3.amazonaws.com/irs-form-990/20161124...</td>\n",
       "      <td>2015</td>\n",
       "    </tr>\n",
       "    <tr>\n",
       "      <th>1</th>\n",
       "      <td>WWW.LJBI.ORG</td>\n",
       "      <td>LA JOLLA BIOENGINEERING INSTITUTE</td>\n",
       "      <td>505 COAST BOULEVARD SOUTH</td>\n",
       "      <td>92037</td>\n",
       "      <td>https://s3.amazonaws.com/irs-form-990/20153349...</td>\n",
       "      <td>2014</td>\n",
       "    </tr>\n",
       "    <tr>\n",
       "      <th>2</th>\n",
       "      <td>NaN</td>\n",
       "      <td>ACTS COMMUNITY DEVELOPMENT</td>\n",
       "      <td>1034 66TH AVENUE</td>\n",
       "      <td>94621</td>\n",
       "      <td>https://s3.amazonaws.com/irs-form-990/20151313...</td>\n",
       "      <td>2014</td>\n",
       "    </tr>\n",
       "    <tr>\n",
       "      <th>3</th>\n",
       "      <td>NaN</td>\n",
       "      <td>AMERICAN AMISTAD FOUNDATION INC</td>\n",
       "      <td>733 SHINAVA DRIVE</td>\n",
       "      <td>84738</td>\n",
       "      <td>https://s3.amazonaws.com/irs-form-990/20151288...</td>\n",
       "      <td>2014</td>\n",
       "    </tr>\n",
       "    <tr>\n",
       "      <th>4</th>\n",
       "      <td>WWW.CASTLA.ORG</td>\n",
       "      <td>COALITION TO ABOLISH SLAVERY AND TRAFFICKING</td>\n",
       "      <td>5042 WILSHIRE BLVD NO 586</td>\n",
       "      <td>90036</td>\n",
       "      <td>https://s3.amazonaws.com/irs-form-990/20160137...</td>\n",
       "      <td>2014</td>\n",
       "    </tr>\n",
       "  </tbody>\n",
       "</table>\n",
       "</div>"
      ],
      "text/plain": [
       "                WEBSITE                                          NAME  \\\n",
       "0  WWW.ROCHESTERBIZ.COM                  GREATER ROCHESTER ENTERPRISE   \n",
       "1          WWW.LJBI.ORG             LA JOLLA BIOENGINEERING INSTITUTE   \n",
       "2                   NaN                    ACTS COMMUNITY DEVELOPMENT   \n",
       "3                   NaN               AMERICAN AMISTAD FOUNDATION INC   \n",
       "4        WWW.CASTLA.ORG  COALITION TO ABOLISH SLAVERY AND TRAFFICKING   \n",
       "\n",
       "                               ADDRESS    ZIP  \\\n",
       "0  100 CHESTNUT ONE HSBC PLAZA NO 1910  14604   \n",
       "1            505 COAST BOULEVARD SOUTH  92037   \n",
       "2                     1034 66TH AVENUE  94621   \n",
       "3                    733 SHINAVA DRIVE  84738   \n",
       "4            5042 WILSHIRE BLVD NO 586  90036   \n",
       "\n",
       "                                                 URL  FISYR  \n",
       "0  https://s3.amazonaws.com/irs-form-990/20161124...   2015  \n",
       "1  https://s3.amazonaws.com/irs-form-990/20153349...   2014  \n",
       "2  https://s3.amazonaws.com/irs-form-990/20151313...   2014  \n",
       "3  https://s3.amazonaws.com/irs-form-990/20151288...   2014  \n",
       "4  https://s3.amazonaws.com/irs-form-990/20160137...   2014  "
      ]
     },
     "execution_count": 23,
     "metadata": {},
     "output_type": "execute_result"
    }
   ],
   "source": [
    "data.head(5)[[\"WEBSITE\", \"NAME\", \"ADDRESS\", \"ZIP\", \"URL\", \"FISYR\"]]"
   ]
  },
  {
   "cell_type": "code",
   "execution_count": 24,
   "metadata": {},
   "outputs": [
    {
     "data": {
      "text/plain": [
       "0.2981337334708806"
      ]
     },
     "execution_count": 24,
     "metadata": {},
     "output_type": "execute_result"
    }
   ],
   "source": [
    "float(len(data[pd.isnull(data.WEBSITE)])) / len(data)"
   ]
  },
  {
   "cell_type": "code",
   "execution_count": 25,
   "metadata": {},
   "outputs": [
    {
     "data": {
      "text/html": [
       "<div>\n",
       "<style scoped>\n",
       "    .dataframe tbody tr th:only-of-type {\n",
       "        vertical-align: middle;\n",
       "    }\n",
       "\n",
       "    .dataframe tbody tr th {\n",
       "        vertical-align: top;\n",
       "    }\n",
       "\n",
       "    .dataframe thead th {\n",
       "        text-align: right;\n",
       "    }\n",
       "</style>\n",
       "<table border=\"1\" class=\"dataframe\">\n",
       "  <thead>\n",
       "    <tr style=\"text-align: right;\">\n",
       "      <th></th>\n",
       "      <th>WEBSITE</th>\n",
       "      <th>NAME</th>\n",
       "      <th>ADDRESS</th>\n",
       "      <th>ZIP</th>\n",
       "      <th>URL</th>\n",
       "      <th>FISYR</th>\n",
       "    </tr>\n",
       "  </thead>\n",
       "  <tbody>\n",
       "    <tr>\n",
       "      <th>0</th>\n",
       "      <td>WWW.ROCHESTERBIZ.COM</td>\n",
       "      <td>GREATER ROCHESTER ENTERPRISE</td>\n",
       "      <td>100 CHESTNUT ONE HSBC PLAZA NO 1910</td>\n",
       "      <td>14604</td>\n",
       "      <td>https://s3.amazonaws.com/irs-form-990/20161124...</td>\n",
       "      <td>2015</td>\n",
       "    </tr>\n",
       "    <tr>\n",
       "      <th>1</th>\n",
       "      <td>WWW.LJBI.ORG</td>\n",
       "      <td>LA JOLLA BIOENGINEERING INSTITUTE</td>\n",
       "      <td>505 COAST BOULEVARD SOUTH</td>\n",
       "      <td>92037</td>\n",
       "      <td>https://s3.amazonaws.com/irs-form-990/20153349...</td>\n",
       "      <td>2014</td>\n",
       "    </tr>\n",
       "    <tr>\n",
       "      <th>4</th>\n",
       "      <td>WWW.CASTLA.ORG</td>\n",
       "      <td>COALITION TO ABOLISH SLAVERY AND TRAFFICKING</td>\n",
       "      <td>5042 WILSHIRE BLVD NO 586</td>\n",
       "      <td>90036</td>\n",
       "      <td>https://s3.amazonaws.com/irs-form-990/20160137...</td>\n",
       "      <td>2014</td>\n",
       "    </tr>\n",
       "    <tr>\n",
       "      <th>5</th>\n",
       "      <td>HTTP://WALKRUNFORLIFE.COM/</td>\n",
       "      <td>ST LAWRENCE COUNTY CANCER FUND INC</td>\n",
       "      <td>PO BOX 291</td>\n",
       "      <td>13617</td>\n",
       "      <td>https://s3.amazonaws.com/irs-form-990/20164132...</td>\n",
       "      <td>2015</td>\n",
       "    </tr>\n",
       "    <tr>\n",
       "      <th>6</th>\n",
       "      <td>WWW.BRIDGTONHOSPITAL.ORG</td>\n",
       "      <td>BRIDGTON HOSPITAL</td>\n",
       "      <td>29 LOWELL STREET BOX A</td>\n",
       "      <td>4240</td>\n",
       "      <td>https://s3.amazonaws.com/irs-form-990/20160133...</td>\n",
       "      <td>2014</td>\n",
       "    </tr>\n",
       "  </tbody>\n",
       "</table>\n",
       "</div>"
      ],
      "text/plain": [
       "                      WEBSITE                                          NAME  \\\n",
       "0        WWW.ROCHESTERBIZ.COM                  GREATER ROCHESTER ENTERPRISE   \n",
       "1                WWW.LJBI.ORG             LA JOLLA BIOENGINEERING INSTITUTE   \n",
       "4              WWW.CASTLA.ORG  COALITION TO ABOLISH SLAVERY AND TRAFFICKING   \n",
       "5  HTTP://WALKRUNFORLIFE.COM/            ST LAWRENCE COUNTY CANCER FUND INC   \n",
       "6    WWW.BRIDGTONHOSPITAL.ORG                             BRIDGTON HOSPITAL   \n",
       "\n",
       "                               ADDRESS    ZIP  \\\n",
       "0  100 CHESTNUT ONE HSBC PLAZA NO 1910  14604   \n",
       "1            505 COAST BOULEVARD SOUTH  92037   \n",
       "4            5042 WILSHIRE BLVD NO 586  90036   \n",
       "5                           PO BOX 291  13617   \n",
       "6               29 LOWELL STREET BOX A   4240   \n",
       "\n",
       "                                                 URL  FISYR  \n",
       "0  https://s3.amazonaws.com/irs-form-990/20161124...   2015  \n",
       "1  https://s3.amazonaws.com/irs-form-990/20153349...   2014  \n",
       "4  https://s3.amazonaws.com/irs-form-990/20160137...   2014  \n",
       "5  https://s3.amazonaws.com/irs-form-990/20164132...   2015  \n",
       "6  https://s3.amazonaws.com/irs-form-990/20160133...   2014  "
      ]
     },
     "execution_count": 25,
     "metadata": {},
     "output_type": "execute_result"
    }
   ],
   "source": [
    "OkayWebsites = data[pd.isnull(data.WEBSITE) == False]\n",
    "OkayWebsites.head(5)[[\"WEBSITE\", \"NAME\", \"ADDRESS\", \"ZIP\", \"URL\", \"FISYR\"]]"
   ]
  },
  {
   "cell_type": "code",
   "execution_count": 26,
   "metadata": {},
   "outputs": [],
   "source": [
    "def exception_handler(request, exception):\n",
    "    None\n",
    "    #print \"Request failed: \" + str(request.url) + \"; Exception: \" + str(exception)"
   ]
  },
  {
   "cell_type": "code",
   "execution_count": 28,
   "metadata": {},
   "outputs": [],
   "source": [
    "def ProcessText(text):\n",
    "    soup = BeautifulSoup(text);\n",
    "    return list(map(lambda link: link.get('href'), soup.find_all('a', attrs={'href': re.compile('twitter.com')})))\n",
    "\n",
    "def ProcessRequest(requestsPerWebsite):\n",
    "    #print(requestsPerWebsite);\n",
    "    if (requestsPerWebsite[0] is not None and requestsPerWebsite[0].ok):\n",
    "        return ProcessText(requestsPerWebsite[0].text);\n",
    "    if (len(requestsPerWebsite) == 2):\n",
    "        if (requestsPerWebsite[1] is not None and requestsPerWebsite[1].ok):\n",
    "            return ProcessText(requestsPerWebsite[1].text);\n",
    "    return [];"
   ]
  },
  {
   "cell_type": "code",
   "execution_count": 29,
   "metadata": {},
   "outputs": [],
   "source": [
    "hdr = {'User-Agent': 'Mozilla/5.0'}\n",
    "ishttp = re.compile('^http(s*):\\/\\/.*', flags=re.IGNORECASE)\n",
    "def QueryWebsite(website):\n",
    "    if (ishttp.match(website) is None):\n",
    "        requests = [\"http://\" + website, \"https://\" + website]\n",
    "    else:\n",
    "        requests = [ website ]\n",
    "    return list(grequests.get(u, timeout=4) for u in requests)\n",
    "\n",
    "def ProcessWebsiteBatch(websiteBatch):\n",
    "    unsentRequests = list(map(lambda x: QueryWebsite(x), websiteBatch))\n",
    "    unsentRequestLengths = list(map(lambda x: len(x), unsentRequests))\n",
    "    flattenedRequests = []\n",
    "    for unsent in unsentRequests:\n",
    "        flattenedRequests = flattenedRequests + unsent\n",
    "    \n",
    "    print(\"Flattened Requests: \" + str(len(flattenedRequests)))\n",
    "    \n",
    "    reqs = grequests.map(flattenedRequests, exception_handler=exception_handler)\n",
    "    idx = 0\n",
    "    unFlattenedResponses = []\n",
    "    for l in unsentRequestLengths:\n",
    "        unFlattenedResponses = unFlattenedResponses + [reqs[idx : idx + l]]\n",
    "        idx = idx + l\n",
    "\n",
    "    # print(\"Unflattened Requests: \" + str(len(unFlattenedResponses)))\n",
    "    \n",
    "    return map(lambda x: ProcessRequest(x), unFlattenedResponses)"
   ]
  },
  {
   "cell_type": "code",
   "execution_count": 30,
   "metadata": {
    "scrolled": true
   },
   "outputs": [],
   "source": [
    "def BatchColumnRun(df, batchSize, csvwriter, csvfile, num_rows=None):\n",
    "    num_rows = num_rows or len(df)\n",
    "    finalNum = int(num_rows / batchSize)\n",
    "    if (num_rows % batchSize != 0):\n",
    "        finalNum = finalNum + 1\n",
    "        \n",
    "    for i in range(0, finalNum):\n",
    "        division = df[i*batchSize:min((i+1)*batchSize, num_rows)]\n",
    "        twitterResults = ProcessWebsiteBatch(division[\"WEBSITE\"])\n",
    "        for idx, twitterResult in enumerate(twitterResults):\n",
    "            csv_writer.writerow([division[\"EIN\"].values[idx], division[\"FISYR\"].values[idx], twitterResult])\n",
    "            csvfile.flush()\n",
    "        print(\"Written: \" + str((i + 1) * batchSize))\n"
   ]
  },
  {
   "cell_type": "code",
   "execution_count": 33,
   "metadata": {},
   "outputs": [
    {
     "name": "stdout",
     "output_type": "stream",
     "text": [
      "Flattened Requests: 47\n",
      "Written: 25\n"
     ]
    }
   ],
   "source": [
    "with open('TwitterHandleOutput.csv', 'w') as csvfile:\n",
    "    csv_writer = csv.writer(csvfile, delimiter='\\t')\n",
    "    # Write the header\n",
    "    csv_writer.writerow([\"EIN\", \"FISYR\", \"TWITTERHANDLE\"])\n",
    "    \n",
    "    BatchColumnRun(OkayWebsites, 25, csv_writer, csvfile, num_rows=50)\n",
    "    csvfile.close()"
   ]
  },
  {
   "cell_type": "code",
   "execution_count": null,
   "metadata": {
    "collapsed": true
   },
   "outputs": [],
   "source": []
  }
 ],
 "metadata": {
  "kernelspec": {
   "display_name": "Python 3",
   "language": "python",
   "name": "python3"
  },
  "language_info": {
   "codemirror_mode": {
    "name": "ipython",
    "version": 3
   },
   "file_extension": ".py",
   "mimetype": "text/x-python",
   "name": "python",
   "nbconvert_exporter": "python",
   "pygments_lexer": "ipython3",
   "version": "3.7.3"
  }
 },
 "nbformat": 4,
 "nbformat_minor": 2
}
